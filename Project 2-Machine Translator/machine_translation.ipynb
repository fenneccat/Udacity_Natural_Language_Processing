{
 "cells": [
  {
   "cell_type": "markdown",
   "metadata": {
    "collapsed": true
   },
   "source": [
    "# Artificial Intelligence Nanodegree\n",
    "## Machine Translation Project\n",
    "In this notebook, sections that end with **'(IMPLEMENTATION)'** in the header indicate that the following blocks of code will require additional functionality which you must provide. Please be sure to read the instructions carefully!\n",
    "\n",
    "## Introduction\n",
    "In this notebook, you will build a deep neural network that functions as part of an end-to-end machine translation pipeline. Your completed pipeline will accept English text as input and return the French translation.\n",
    "\n",
    "- **Preprocess** - You'll convert text to sequence of integers.\n",
    "- **Models** Create models which accepts a sequence of integers as input and returns a probability distribution over possible translations. After learning about the basic types of neural networks that are often used for machine translation, you will engage in your own investigations, to design your own model!\n",
    "- **Prediction** Run the model on English text."
   ]
  },
  {
   "cell_type": "code",
   "execution_count": 1,
   "metadata": {},
   "outputs": [],
   "source": [
    "%load_ext autoreload\n",
    "%aimport helper, tests\n",
    "%autoreload 1"
   ]
  },
  {
   "cell_type": "code",
   "execution_count": 2,
   "metadata": {},
   "outputs": [
    {
     "name": "stderr",
     "output_type": "stream",
     "text": [
      "Using TensorFlow backend.\n"
     ]
    }
   ],
   "source": [
    "import collections\n",
    "\n",
    "import helper\n",
    "import numpy as np\n",
    "import project_tests as tests\n",
    "\n",
    "from keras.preprocessing.text import Tokenizer\n",
    "from keras.preprocessing.sequence import pad_sequences\n",
    "from keras.models import Model\n",
    "from keras.layers import GRU, Input, Dense, TimeDistributed, Activation, RepeatVector, Bidirectional\n",
    "from keras.layers.embeddings import Embedding\n",
    "from keras.optimizers import Adam\n",
    "from keras.losses import sparse_categorical_crossentropy"
   ]
  },
  {
   "cell_type": "markdown",
   "metadata": {},
   "source": [
    "### Verify access to the GPU\n",
    "The following test applies only if you expect to be using a GPU, e.g., while running in a Udacity Workspace or using an AWS instance with GPU support. Run the next cell, and verify that the device_type is \"GPU\".\n",
    "- If the device is not GPU & you are running from a Udacity Workspace, then save your workspace with the icon at the top, then click \"enable\" at the bottom of the workspace.\n",
    "- If the device is not GPU & you are running from an AWS instance, then refer to the cloud computing instructions in the classroom to verify your setup steps."
   ]
  },
  {
   "cell_type": "code",
   "execution_count": 3,
   "metadata": {},
   "outputs": [
    {
     "name": "stdout",
     "output_type": "stream",
     "text": [
      "[name: \"/cpu:0\"\n",
      "device_type: \"CPU\"\n",
      "memory_limit: 268435456\n",
      "locality {\n",
      "}\n",
      "incarnation: 3469353046572414362\n",
      ", name: \"/gpu:0\"\n",
      "device_type: \"GPU\"\n",
      "memory_limit: 235929600\n",
      "locality {\n",
      "  bus_id: 1\n",
      "}\n",
      "incarnation: 11678942824555508208\n",
      "physical_device_desc: \"device: 0, name: Tesla K80, pci bus id: 0000:00:04.0\"\n",
      "]\n"
     ]
    }
   ],
   "source": [
    "from tensorflow.python.client import device_lib\n",
    "print(device_lib.list_local_devices())"
   ]
  },
  {
   "cell_type": "markdown",
   "metadata": {},
   "source": [
    "## Dataset\n",
    "We begin by investigating the dataset that will be used to train and evaluate your pipeline.  The most common datasets used for machine translation are from [WMT](http://www.statmt.org/).  However, that will take a long time to train a neural network on.  We'll be using a dataset we created for this project that contains a small vocabulary.  You'll be able to train your model in a reasonable time with this dataset.\n",
    "### Load Data\n",
    "The data is located in `data/small_vocab_en` and `data/small_vocab_fr`. The `small_vocab_en` file contains English sentences with their French translations in the `small_vocab_fr` file. Load the English and French data from these files from running the cell below."
   ]
  },
  {
   "cell_type": "code",
   "execution_count": 4,
   "metadata": {},
   "outputs": [
    {
     "name": "stdout",
     "output_type": "stream",
     "text": [
      "Dataset Loaded\n"
     ]
    }
   ],
   "source": [
    "# Load English data\n",
    "english_sentences = helper.load_data('data/small_vocab_en')\n",
    "# Load French data\n",
    "french_sentences = helper.load_data('data/small_vocab_fr')\n",
    "\n",
    "print('Dataset Loaded')"
   ]
  },
  {
   "cell_type": "markdown",
   "metadata": {},
   "source": [
    "### Files\n",
    "Each line in `small_vocab_en` contains an English sentence with the respective translation in each line of `small_vocab_fr`.  View the first two lines from each file."
   ]
  },
  {
   "cell_type": "code",
   "execution_count": 5,
   "metadata": {},
   "outputs": [
    {
     "name": "stdout",
     "output_type": "stream",
     "text": [
      "small_vocab_en Line 1:  new jersey is sometimes quiet during autumn , and it is snowy in april .\n",
      "small_vocab_fr Line 1:  new jersey est parfois calme pendant l' automne , et il est neigeux en avril .\n",
      "small_vocab_en Line 2:  the united states is usually chilly during july , and it is usually freezing in november .\n",
      "small_vocab_fr Line 2:  les états-unis est généralement froid en juillet , et il gèle habituellement en novembre .\n"
     ]
    }
   ],
   "source": [
    "for sample_i in range(2):\n",
    "    print('small_vocab_en Line {}:  {}'.format(sample_i + 1, english_sentences[sample_i]))\n",
    "    print('small_vocab_fr Line {}:  {}'.format(sample_i + 1, french_sentences[sample_i]))"
   ]
  },
  {
   "cell_type": "markdown",
   "metadata": {},
   "source": [
    "From looking at the sentences, you can see they have been preprocessed already.  The puncuations have been delimited using spaces. All the text have been converted to lowercase.  This should save you some time, but the text requires more preprocessing.\n",
    "### Vocabulary\n",
    "The complexity of the problem is determined by the complexity of the vocabulary.  A more complex vocabulary is a more complex problem.  Let's look at the complexity of the dataset we'll be working with."
   ]
  },
  {
   "cell_type": "code",
   "execution_count": 6,
   "metadata": {},
   "outputs": [
    {
     "name": "stdout",
     "output_type": "stream",
     "text": [
      "1823250 English words.\n",
      "227 unique English words.\n",
      "10 Most common words in the English dataset:\n",
      "\"is\" \",\" \".\" \"in\" \"it\" \"during\" \"the\" \"but\" \"and\" \"sometimes\"\n",
      "\n",
      "1961295 French words.\n",
      "355 unique French words.\n",
      "10 Most common words in the French dataset:\n",
      "\"est\" \".\" \",\" \"en\" \"il\" \"les\" \"mais\" \"et\" \"la\" \"parfois\"\n"
     ]
    }
   ],
   "source": [
    "english_words_counter = collections.Counter([word for sentence in english_sentences for word in sentence.split()])\n",
    "french_words_counter = collections.Counter([word for sentence in french_sentences for word in sentence.split()])\n",
    "\n",
    "print('{} English words.'.format(len([word for sentence in english_sentences for word in sentence.split()])))\n",
    "print('{} unique English words.'.format(len(english_words_counter)))\n",
    "print('10 Most common words in the English dataset:')\n",
    "print('\"' + '\" \"'.join(list(zip(*english_words_counter.most_common(10)))[0]) + '\"')\n",
    "print()\n",
    "print('{} French words.'.format(len([word for sentence in french_sentences for word in sentence.split()])))\n",
    "print('{} unique French words.'.format(len(french_words_counter)))\n",
    "print('10 Most common words in the French dataset:')\n",
    "print('\"' + '\" \"'.join(list(zip(*french_words_counter.most_common(10)))[0]) + '\"')"
   ]
  },
  {
   "cell_type": "markdown",
   "metadata": {},
   "source": [
    "For comparison, _Alice's Adventures in Wonderland_ contains 2,766 unique words of a total of 15,500 words.\n",
    "## Preprocess\n",
    "For this project, you won't use text data as input to your model. Instead, you'll convert the text into sequences of integers using the following preprocess methods:\n",
    "1. Tokenize the words into ids\n",
    "2. Add padding to make all the sequences the same length.\n",
    "\n",
    "Time to start preprocessing the data...\n",
    "### Tokenize (IMPLEMENTATION)\n",
    "For a neural network to predict on text data, it first has to be turned into data it can understand. Text data like \"dog\" is a sequence of ASCII character encodings.  Since a neural network is a series of multiplication and addition operations, the input data needs to be number(s).\n",
    "\n",
    "We can turn each character into a number or each word into a number.  These are called character and word ids, respectively.  Character ids are used for character level models that generate text predictions for each character.  A word level model uses word ids that generate text predictions for each word.  Word level models tend to learn better, since they are lower in complexity, so we'll use those.\n",
    "\n",
    "Turn each sentence into a sequence of words ids using Keras's [`Tokenizer`](https://keras.io/preprocessing/text/#tokenizer) function. Use this function to tokenize `english_sentences` and `french_sentences` in the cell below.\n",
    "\n",
    "Running the cell will run `tokenize` on sample data and show output for debugging."
   ]
  },
  {
   "cell_type": "code",
   "execution_count": 7,
   "metadata": {},
   "outputs": [
    {
     "name": "stdout",
     "output_type": "stream",
     "text": [
      "{'the': 1, 'quick': 2, 'a': 3, 'brown': 4, 'fox': 5, 'jumps': 6, 'over': 7, 'lazy': 8, 'dog': 9, 'by': 10, 'jove': 11, 'my': 12, 'study': 13, 'of': 14, 'lexicography': 15, 'won': 16, 'prize': 17, 'this': 18, 'is': 19, 'short': 20, 'sentence': 21}\n",
      "\n",
      "Sequence 1 in x\n",
      "  Input:  The quick brown fox jumps over the lazy dog .\n",
      "  Output: [1, 2, 4, 5, 6, 7, 1, 8, 9]\n",
      "Sequence 2 in x\n",
      "  Input:  By Jove , my quick study of lexicography won a prize .\n",
      "  Output: [10, 11, 12, 2, 13, 14, 15, 16, 3, 17]\n",
      "Sequence 3 in x\n",
      "  Input:  This is a short sentence .\n",
      "  Output: [18, 19, 3, 20, 21]\n"
     ]
    }
   ],
   "source": [
    "def tokenize(x):\n",
    "    \"\"\"\n",
    "    Tokenize x\n",
    "    :param x: List of sentences/strings to be tokenized\n",
    "    :return: Tuple of (tokenized x data, tokenizer used to tokenize x)\n",
    "    \"\"\"\n",
    "    # TODO: Implement\n",
    "    \n",
    "    tknzer = Tokenizer()\n",
    "    tknzer.fit_on_texts(x)\n",
    "    data = tknzer.texts_to_sequences(x)\n",
    "    \n",
    "    return data, tknzer\n",
    "tests.test_tokenize(tokenize)\n",
    "\n",
    "# Tokenize Example output\n",
    "text_sentences = [\n",
    "    'The quick brown fox jumps over the lazy dog .',\n",
    "    'By Jove , my quick study of lexicography won a prize .',\n",
    "    'This is a short sentence .']\n",
    "text_tokenized, text_tokenizer = tokenize(text_sentences)\n",
    "print(text_tokenizer.word_index)\n",
    "print()\n",
    "for sample_i, (sent, token_sent) in enumerate(zip(text_sentences, text_tokenized)):\n",
    "    print('Sequence {} in x'.format(sample_i + 1))\n",
    "    print('  Input:  {}'.format(sent))\n",
    "    print('  Output: {}'.format(token_sent))"
   ]
  },
  {
   "cell_type": "markdown",
   "metadata": {},
   "source": [
    "### Padding (IMPLEMENTATION)\n",
    "When batching the sequence of word ids together, each sequence needs to be the same length.  Since sentences are dynamic in length, we can add padding to the end of the sequences to make them the same length.\n",
    "\n",
    "Make sure all the English sequences have the same length and all the French sequences have the same length by adding padding to the **end** of each sequence using Keras's [`pad_sequences`](https://keras.io/preprocessing/sequence/#pad_sequences) function."
   ]
  },
  {
   "cell_type": "code",
   "execution_count": 8,
   "metadata": {},
   "outputs": [
    {
     "name": "stdout",
     "output_type": "stream",
     "text": [
      "Sequence 1 in x\n",
      "  Input:  [1 2 4 5 6 7 1 8 9]\n",
      "  Output: [1 2 4 5 6 7 1 8 9 0]\n",
      "Sequence 2 in x\n",
      "  Input:  [10 11 12  2 13 14 15 16  3 17]\n",
      "  Output: [10 11 12  2 13 14 15 16  3 17]\n",
      "Sequence 3 in x\n",
      "  Input:  [18 19  3 20 21]\n",
      "  Output: [18 19  3 20 21  0  0  0  0  0]\n"
     ]
    }
   ],
   "source": [
    "def pad(x, length=None):\n",
    "    \"\"\"\n",
    "    Pad x\n",
    "    :param x: List of sequences.\n",
    "    :param length: Length to pad the sequence to.  If None, use length of longest sequence in x.\n",
    "    :return: Padded numpy array of sequences\n",
    "    \"\"\"\n",
    "    # TODO: Implement\n",
    "    \n",
    "    if length == None: length = max(map(len, x))\n",
    "    \n",
    "    return np.array(pad_sequences(x, length, padding = 'post'))\n",
    "tests.test_pad(pad)\n",
    "\n",
    "# Pad Tokenized output\n",
    "test_pad = pad(text_tokenized)\n",
    "for sample_i, (token_sent, pad_sent) in enumerate(zip(text_tokenized, test_pad)):\n",
    "    print('Sequence {} in x'.format(sample_i + 1))\n",
    "    print('  Input:  {}'.format(np.array(token_sent)))\n",
    "    print('  Output: {}'.format(pad_sent))"
   ]
  },
  {
   "cell_type": "markdown",
   "metadata": {},
   "source": [
    "### Preprocess Pipeline\n",
    "Your focus for this project is to build neural network architecture, so we won't ask you to create a preprocess pipeline.  Instead, we've provided you with the implementation of the `preprocess` function."
   ]
  },
  {
   "cell_type": "code",
   "execution_count": 9,
   "metadata": {},
   "outputs": [
    {
     "name": "stdout",
     "output_type": "stream",
     "text": [
      "Data Preprocessed\n",
      "Max English sentence length: 15\n",
      "Max French sentence length: 21\n",
      "English vocabulary size: 199\n",
      "French vocabulary size: 344\n"
     ]
    }
   ],
   "source": [
    "def preprocess(x, y):\n",
    "    \"\"\"\n",
    "    Preprocess x and y\n",
    "    :param x: Feature List of sentences\n",
    "    :param y: Label List of sentences\n",
    "    :return: Tuple of (Preprocessed x, Preprocessed y, x tokenizer, y tokenizer)\n",
    "    \"\"\"\n",
    "    preprocess_x, x_tk = tokenize(x)\n",
    "    preprocess_y, y_tk = tokenize(y)\n",
    "\n",
    "    preprocess_x = pad(preprocess_x)\n",
    "    preprocess_y = pad(preprocess_y)\n",
    "\n",
    "    # Keras's sparse_categorical_crossentropy function requires the labels to be in 3 dimensions\n",
    "    preprocess_y = preprocess_y.reshape(*preprocess_y.shape, 1)\n",
    "\n",
    "    return preprocess_x, preprocess_y, x_tk, y_tk\n",
    "\n",
    "preproc_english_sentences, preproc_french_sentences, english_tokenizer, french_tokenizer =\\\n",
    "    preprocess(english_sentences, french_sentences)\n",
    "    \n",
    "max_english_sequence_length = preproc_english_sentences.shape[1]\n",
    "max_french_sequence_length = preproc_french_sentences.shape[1]\n",
    "english_vocab_size = len(english_tokenizer.word_index)\n",
    "french_vocab_size = len(french_tokenizer.word_index)\n",
    "\n",
    "print('Data Preprocessed')\n",
    "print(\"Max English sentence length:\", max_english_sequence_length)\n",
    "print(\"Max French sentence length:\", max_french_sequence_length)\n",
    "print(\"English vocabulary size:\", english_vocab_size)\n",
    "print(\"French vocabulary size:\", french_vocab_size)"
   ]
  },
  {
   "cell_type": "markdown",
   "metadata": {},
   "source": [
    "## Models\n",
    "In this section, you will experiment with various neural network architectures.\n",
    "You will begin by training four relatively simple architectures.\n",
    "- Model 1 is a simple RNN\n",
    "- Model 2 is a RNN with Embedding\n",
    "- Model 3 is a Bidirectional RNN\n",
    "- Model 4 is an optional Encoder-Decoder RNN\n",
    "\n",
    "After experimenting with the four simple architectures, you will construct a deeper architecture that is designed to outperform all four models.\n",
    "### Ids Back to Text\n",
    "The neural network will be translating the input to words ids, which isn't the final form we want.  We want the French translation.  The function `logits_to_text` will bridge the gab between the logits from the neural network to the French translation.  You'll be using this function to better understand the output of the neural network."
   ]
  },
  {
   "cell_type": "code",
   "execution_count": 10,
   "metadata": {},
   "outputs": [
    {
     "name": "stdout",
     "output_type": "stream",
     "text": [
      "`logits_to_text` function loaded.\n"
     ]
    }
   ],
   "source": [
    "def logits_to_text(logits, tokenizer):\n",
    "    \"\"\"\n",
    "    Turn logits from a neural network into text using the tokenizer\n",
    "    :param logits: Logits from a neural network\n",
    "    :param tokenizer: Keras Tokenizer fit on the labels\n",
    "    :return: String that represents the text of the logits\n",
    "    \"\"\"\n",
    "    index_to_words = {id: word for word, id in tokenizer.word_index.items()}\n",
    "    index_to_words[0] = '<PAD>'\n",
    "\n",
    "    return ' '.join([index_to_words[prediction] for prediction in np.argmax(logits, 1)])\n",
    "\n",
    "print('`logits_to_text` function loaded.')"
   ]
  },
  {
   "cell_type": "markdown",
   "metadata": {},
   "source": [
    "### Model 1: RNN (IMPLEMENTATION)\n",
    "![RNN](images/rnn.png)\n",
    "A basic RNN model is a good baseline for sequence data.  In this model, you'll build a RNN that translates English to French."
   ]
  },
  {
   "cell_type": "code",
   "execution_count": 11,
   "metadata": {},
   "outputs": [
    {
     "name": "stdout",
     "output_type": "stream",
     "text": [
      "Train on 110288 samples, validate on 27573 samples\n",
      "Epoch 1/10\n",
      "110288/110288 [==============================] - 16s 142us/step - loss: 2.2047 - acc: 0.5159 - val_loss: nan - val_acc: 0.5861\n",
      "Epoch 2/10\n",
      "110288/110288 [==============================] - 16s 149us/step - loss: 1.4935 - acc: 0.6038 - val_loss: nan - val_acc: 0.6231\n",
      "Epoch 3/10\n",
      "110288/110288 [==============================] - 13s 120us/step - loss: 1.3144 - acc: 0.6330 - val_loss: nan - val_acc: 0.6433\n",
      "Epoch 4/10\n",
      "110288/110288 [==============================] - 13s 121us/step - loss: 1.2292 - acc: 0.6487 - val_loss: nan - val_acc: 0.6598\n",
      "Epoch 5/10\n",
      "110288/110288 [==============================] - 13s 117us/step - loss: 1.1765 - acc: 0.6560 - val_loss: nan - val_acc: 0.6545\n",
      "Epoch 6/10\n",
      "110288/110288 [==============================] - 17s 150us/step - loss: 1.1410 - acc: 0.6614 - val_loss: nan - val_acc: 0.6665\n",
      "Epoch 7/10\n",
      "110288/110288 [==============================] - 13s 121us/step - loss: 1.1099 - acc: 0.6674 - val_loss: nan - val_acc: 0.6650\n",
      "Epoch 8/10\n",
      "110288/110288 [==============================] - 13s 120us/step - loss: 1.0854 - acc: 0.6720 - val_loss: nan - val_acc: 0.6730\n",
      "Epoch 9/10\n",
      "110288/110288 [==============================] - 15s 132us/step - loss: 1.0645 - acc: 0.6790 - val_loss: nan - val_acc: 0.6674\n",
      "Epoch 10/10\n",
      "110288/110288 [==============================] - 15s 138us/step - loss: 1.0463 - acc: 0.6840 - val_loss: nan - val_acc: 0.6853\n",
      "new jersey est parfois calme en l' et il est est en en <PAD> <PAD> <PAD> <PAD> <PAD> <PAD> <PAD> <PAD>\n"
     ]
    }
   ],
   "source": [
    "def simple_model(input_shape, output_sequence_length, english_vocab_size, french_vocab_size):\n",
    "    \"\"\"\n",
    "    Build and train a basic RNN on x and y\n",
    "    :param input_shape: Tuple of input shape\n",
    "    :param output_sequence_length: Length of output sequence\n",
    "    :param english_vocab_size: Number of unique English words in the dataset\n",
    "    :param french_vocab_size: Number of unique French words in the dataset\n",
    "    :return: Keras model built, but not trained\n",
    "    \"\"\"\n",
    "    # TODO: Build the layers\n",
    "    \n",
    "    hidden_nodes = 64\n",
    "    learning_rate = 0.01\n",
    "    \n",
    "    inputs = Input(input_shape[1:])\n",
    "    outputs = GRU(hidden_nodes, return_sequences=True)(inputs)\n",
    "    outputs = TimeDistributed(Dense(french_vocab_size))(outputs)\n",
    "    #print(outputs)\n",
    "    outputs = Activation('softmax')(outputs)\n",
    "    \n",
    "    model = Model(inputs, outputs)\n",
    "    model.compile(loss=sparse_categorical_crossentropy,\n",
    "                  optimizer=Adam(learning_rate),\n",
    "                  metrics=['accuracy'])\n",
    "    return model\n",
    "tests.test_simple_model(simple_model)\n",
    "\n",
    "# Reshaping the input to work with a basic RNN\n",
    "tmp_x = pad(preproc_english_sentences, max_french_sequence_length)\n",
    "tmp_x = tmp_x.reshape((-1, preproc_french_sentences.shape[-2], 1))\n",
    "\n",
    "# Train the neural network\n",
    "simple_rnn_model = simple_model(\n",
    "    tmp_x.shape,\n",
    "    max_french_sequence_length,\n",
    "    english_vocab_size,\n",
    "    french_vocab_size)\n",
    "simple_rnn_model.fit(tmp_x, preproc_french_sentences, batch_size=1024, epochs=10, validation_split=0.2)\n",
    "\n",
    "# Print prediction(s)\n",
    "print(logits_to_text(simple_rnn_model.predict(tmp_x[:1])[0], french_tokenizer))"
   ]
  },
  {
   "cell_type": "code",
   "execution_count": 12,
   "metadata": {},
   "outputs": [
    {
     "name": "stdout",
     "output_type": "stream",
     "text": [
      "_________________________________________________________________\n",
      "Layer (type)                 Output Shape              Param #   \n",
      "=================================================================\n",
      "input_2 (InputLayer)         (None, 21, 1)             0         \n",
      "_________________________________________________________________\n",
      "gru_2 (GRU)                  (None, 21, 64)            12672     \n",
      "_________________________________________________________________\n",
      "time_distributed_2 (TimeDist (None, 21, 344)           22360     \n",
      "_________________________________________________________________\n",
      "activation_2 (Activation)    (None, 21, 344)           0         \n",
      "=================================================================\n",
      "Total params: 35,032\n",
      "Trainable params: 35,032\n",
      "Non-trainable params: 0\n",
      "_________________________________________________________________\n"
     ]
    }
   ],
   "source": [
    "simple_rnn_model.summary()"
   ]
  },
  {
   "cell_type": "markdown",
   "metadata": {},
   "source": [
    "### Model 2: Embedding (IMPLEMENTATION)\n",
    "![RNN](images/embedding.png)\n",
    "You've turned the words into ids, but there's a better representation of a word.  This is called word embeddings.  An embedding is a vector representation of the word that is close to similar words in n-dimensional space, where the n represents the size of the embedding vectors.\n",
    "\n",
    "In this model, you'll create a RNN model using embedding."
   ]
  },
  {
   "cell_type": "code",
   "execution_count": 13,
   "metadata": {},
   "outputs": [
    {
     "name": "stdout",
     "output_type": "stream",
     "text": [
      "Train on 110288 samples, validate on 27573 samples\n",
      "Epoch 1/10\n",
      "110288/110288 [==============================] - 16s 142us/step - loss: 1.7422 - acc: 0.6241 - val_loss: nan - val_acc: 0.7881\n",
      "Epoch 2/10\n",
      "110288/110288 [==============================] - 15s 139us/step - loss: 0.5474 - acc: 0.8323 - val_loss: nan - val_acc: 0.8610\n",
      "Epoch 3/10\n",
      "110288/110288 [==============================] - 18s 168us/step - loss: 0.3996 - acc: 0.8761 - val_loss: nan - val_acc: 0.8881\n",
      "Epoch 4/10\n",
      "110288/110288 [==============================] - 15s 139us/step - loss: 0.3372 - acc: 0.8947 - val_loss: nan - val_acc: 0.8982\n",
      "Epoch 5/10\n",
      "110288/110288 [==============================] - 15s 139us/step - loss: 0.3058 - acc: 0.9041 - val_loss: nan - val_acc: 0.9077\n",
      "Epoch 6/10\n",
      "110288/110288 [==============================] - 19s 168us/step - loss: 0.2856 - acc: 0.9097 - val_loss: nan - val_acc: 0.9097\n",
      "Epoch 7/10\n",
      "110288/110288 [==============================] - 15s 139us/step - loss: 0.2721 - acc: 0.9133 - val_loss: nan - val_acc: 0.9139\n",
      "Epoch 8/10\n",
      "110288/110288 [==============================] - 15s 139us/step - loss: 0.2613 - acc: 0.9162 - val_loss: nan - val_acc: 0.9137\n",
      "Epoch 9/10\n",
      "110288/110288 [==============================] - 17s 155us/step - loss: 0.2547 - acc: 0.9179 - val_loss: nan - val_acc: 0.9161\n",
      "Epoch 10/10\n",
      "110288/110288 [==============================] - 17s 154us/step - loss: 0.2482 - acc: 0.9196 - val_loss: nan - val_acc: 0.9187\n",
      "new jersey est parfois calme en l' automne et il est neigeux en avril <PAD> <PAD> <PAD> <PAD> <PAD> <PAD> <PAD>\n"
     ]
    }
   ],
   "source": [
    "def embed_model(input_shape, output_sequence_length, english_vocab_size, french_vocab_size):\n",
    "    \"\"\"\n",
    "    Build and train a RNN model using word embedding on x and y\n",
    "    :param input_shape: Tuple of input shape\n",
    "    :param output_sequence_length: Length of output sequence\n",
    "    :param english_vocab_size: Number of unique English words in the dataset\n",
    "    :param french_vocab_size: Number of unique French words in the dataset\n",
    "    :return: Keras model built, but not trained\n",
    "    \"\"\"\n",
    "    # TODO: Implement\n",
    "    embedding_size = 200\n",
    "    hidden_nodes = 64\n",
    "    learning_rate = 0.01\n",
    "    \n",
    "    inputs = Input(input_shape[1:])\n",
    "    outputs = Embedding(english_vocab_size, embedding_size)(inputs)\n",
    "    outputs = GRU(hidden_nodes, return_sequences=True)(outputs)\n",
    "    outputs = TimeDistributed(Dense(french_vocab_size))(outputs)\n",
    "    outputs = Activation('softmax')(outputs)\n",
    "    \n",
    "    model = Model(inputs, outputs)\n",
    "    \n",
    "    model.compile(loss = sparse_categorical_crossentropy,\\\n",
    "                 optimizer= Adam(learning_rate), metrics = ['accuracy'])\n",
    "    \n",
    "    \n",
    "    return model\n",
    "tests.test_embed_model(embed_model)\n",
    "\n",
    "\n",
    "# TODO: Reshape the input\n",
    "tmp_x = pad(preproc_english_sentences, length=max_french_sequence_length)\n",
    "\n",
    "# TODO: Train the neural network\n",
    "embed_model = embed_model(tmp_x.shape, max_french_sequence_length, english_vocab_size, french_vocab_size)\n",
    "#embed_model.summary()\n",
    "embed_model.fit(tmp_x, preproc_french_sentences, batch_size=1024, epochs=10, validation_split=0.2)\n",
    "\n",
    "# TODO: Print prediction(s)\n",
    "logits = embed_model.predict(tmp_x[:1])[0]\n",
    "print(logits_to_text(logits, french_tokenizer))"
   ]
  },
  {
   "cell_type": "code",
   "execution_count": 14,
   "metadata": {},
   "outputs": [
    {
     "name": "stdout",
     "output_type": "stream",
     "text": [
      "_________________________________________________________________\n",
      "Layer (type)                 Output Shape              Param #   \n",
      "=================================================================\n",
      "input_4 (InputLayer)         (None, 21)                0         \n",
      "_________________________________________________________________\n",
      "embedding_2 (Embedding)      (None, 21, 200)           39800     \n",
      "_________________________________________________________________\n",
      "gru_4 (GRU)                  (None, 21, 64)            50880     \n",
      "_________________________________________________________________\n",
      "time_distributed_4 (TimeDist (None, 21, 344)           22360     \n",
      "_________________________________________________________________\n",
      "activation_4 (Activation)    (None, 21, 344)           0         \n",
      "=================================================================\n",
      "Total params: 113,040\n",
      "Trainable params: 113,040\n",
      "Non-trainable params: 0\n",
      "_________________________________________________________________\n"
     ]
    }
   ],
   "source": [
    "embed_model.summary()"
   ]
  },
  {
   "cell_type": "markdown",
   "metadata": {},
   "source": [
    "### Model 3: Bidirectional RNNs (IMPLEMENTATION)\n",
    "![RNN](images/bidirectional.png)\n",
    "One restriction of a RNN is that it can't see the future input, only the past.  This is where bidirectional recurrent neural networks come in.  They are able to see the future data."
   ]
  },
  {
   "cell_type": "code",
   "execution_count": 15,
   "metadata": {},
   "outputs": [
    {
     "name": "stdout",
     "output_type": "stream",
     "text": [
      "Train on 110288 samples, validate on 27573 samples\n",
      "Epoch 1/10\n",
      "110288/110288 [==============================] - 21s 189us/step - loss: 1.8589 - acc: 0.5775 - val_loss: nan - val_acc: 0.6422\n",
      "Epoch 2/10\n",
      "110288/110288 [==============================] - 23s 212us/step - loss: 1.2194 - acc: 0.6549 - val_loss: nan - val_acc: 0.6663\n",
      "Epoch 3/10\n",
      "110288/110288 [==============================] - 20s 184us/step - loss: 1.0989 - acc: 0.6725 - val_loss: nan - val_acc: 0.6794\n",
      "Epoch 4/10\n",
      "110288/110288 [==============================] - 24s 213us/step - loss: 1.0270 - acc: 0.6844 - val_loss: nan - val_acc: 0.6850\n",
      "Epoch 5/10\n",
      "110288/110288 [==============================] - 20s 179us/step - loss: 0.9889 - acc: 0.6903 - val_loss: nan - val_acc: 0.6913\n",
      "Epoch 6/10\n",
      "110288/110288 [==============================] - 20s 184us/step - loss: 0.9816 - acc: 0.6901 - val_loss: nan - val_acc: 0.6977\n",
      "Epoch 7/10\n",
      "110288/110288 [==============================] - 23s 212us/step - loss: 0.9368 - acc: 0.7005 - val_loss: nan - val_acc: 0.7023\n",
      "Epoch 8/10\n",
      "110288/110288 [==============================] - 20s 184us/step - loss: 0.9163 - acc: 0.7042 - val_loss: nan - val_acc: 0.7088\n",
      "Epoch 9/10\n",
      "110288/110288 [==============================] - 23s 208us/step - loss: 0.8973 - acc: 0.7094 - val_loss: nan - val_acc: 0.7087\n",
      "Epoch 10/10\n",
      "110288/110288 [==============================] - 20s 184us/step - loss: 0.8851 - acc: 0.7125 - val_loss: nan - val_acc: 0.7151\n",
      "new jersey est parfois calme en mois de il et il est en en <PAD> <PAD> <PAD> <PAD> <PAD> <PAD> <PAD>\n"
     ]
    }
   ],
   "source": [
    "def bd_model(input_shape, output_sequence_length, english_vocab_size, french_vocab_size):\n",
    "    \"\"\"\n",
    "    Build and train a bidirectional RNN model on x and y\n",
    "    :param input_shape: Tuple of input shape\n",
    "    :param output_sequence_length: Length of output sequence\n",
    "    :param english_vocab_size: Number of unique English words in the dataset\n",
    "    :param french_vocab_size: Number of unique French words in the dataset\n",
    "    :return: Keras model built, but not trained\n",
    "    \"\"\"\n",
    "    \n",
    "    hidden_layers = 64\n",
    "    learning_rate = 0.01\n",
    "    \n",
    "    #Bidirectional\n",
    "    inputs = Input(input_shape[1:])\n",
    "    outputs = Bidirectional(GRU(hidden_layers, return_sequences=True), merge_mode='concat')(inputs)\n",
    "    outputs = TimeDistributed(Dense(french_vocab_size))(outputs)\n",
    "    outputs = Activation('softmax')(outputs)\n",
    "    \n",
    "    model = Model(inputs,outputs)\n",
    "    \n",
    "    model.compile(loss = sparse_categorical_crossentropy, optimizer = Adam(learning_rate), metrics = ['accuracy'])\n",
    "    \n",
    "    \n",
    "    return model\n",
    "tests.test_bd_model(bd_model)\n",
    "\n",
    "\n",
    "# TODO: Train and Print prediction(s)\n",
    "tmp_x = pad(preproc_english_sentences, max_french_sequence_length)\n",
    "tmp_x = tmp_x.reshape((-1,tmp_x.shape[1],1))\n",
    "\n",
    "bidirectional_model = bd_model(tmp_x.shape, max_french_sequence_length, english_vocab_size, french_vocab_size)\n",
    "\n",
    "bidirectional_model.fit(tmp_x, preproc_french_sentences, batch_size = 1024, epochs = 10, validation_split = 0.2)\n",
    "print(logits_to_text(bidirectional_model.predict(tmp_x[:1])[0], french_tokenizer))"
   ]
  },
  {
   "cell_type": "code",
   "execution_count": 16,
   "metadata": {},
   "outputs": [
    {
     "name": "stdout",
     "output_type": "stream",
     "text": [
      "_________________________________________________________________\n",
      "Layer (type)                 Output Shape              Param #   \n",
      "=================================================================\n",
      "input_6 (InputLayer)         (None, 21, 1)             0         \n",
      "_________________________________________________________________\n",
      "bidirectional_2 (Bidirection (None, 21, 128)           25344     \n",
      "_________________________________________________________________\n",
      "time_distributed_6 (TimeDist (None, 21, 344)           44376     \n",
      "_________________________________________________________________\n",
      "activation_6 (Activation)    (None, 21, 344)           0         \n",
      "=================================================================\n",
      "Total params: 69,720\n",
      "Trainable params: 69,720\n",
      "Non-trainable params: 0\n",
      "_________________________________________________________________\n"
     ]
    }
   ],
   "source": [
    "bidirectional_model.summary()"
   ]
  },
  {
   "cell_type": "markdown",
   "metadata": {},
   "source": [
    "### Model 4: Encoder-Decoder (OPTIONAL)\n",
    "Time to look at encoder-decoder models.  This model is made up of an encoder and decoder. The encoder creates a matrix representation of the sentence.  The decoder takes this matrix as input and predicts the translation as output.\n",
    "\n",
    "Create an encoder-decoder model in the cell below."
   ]
  },
  {
   "cell_type": "markdown",
   "metadata": {},
   "source": [
    "![Encoder-Decoder](https://cloud.githubusercontent.com/assets/10662945/22364937/a5fbd20e-e429-11e6-831d-2a56574c98ba.png)"
   ]
  },
  {
   "cell_type": "code",
   "execution_count": 17,
   "metadata": {},
   "outputs": [
    {
     "name": "stdout",
     "output_type": "stream",
     "text": [
      "Train on 110288 samples, validate on 27573 samples\n",
      "Epoch 1/10\n",
      "110288/110288 [==============================] - 28s 256us/step - loss: 1.3612 - acc: 0.6844 - val_loss: nan - val_acc: 0.8447\n",
      "Epoch 2/10\n",
      "110288/110288 [==============================] - 24s 216us/step - loss: 0.3630 - acc: 0.8844 - val_loss: nan - val_acc: 0.9087\n",
      "Epoch 3/10\n",
      "110288/110288 [==============================] - 27s 245us/step - loss: 0.2415 - acc: 0.9238 - val_loss: nan - val_acc: 0.9335\n",
      "Epoch 4/10\n",
      "110288/110288 [==============================] - 24s 216us/step - loss: 0.1857 - acc: 0.9423 - val_loss: nan - val_acc: 0.9487\n",
      "Epoch 5/10\n",
      "110288/110288 [==============================] - 27s 244us/step - loss: 0.1508 - acc: 0.9542 - val_loss: nan - val_acc: 0.9564\n",
      "Epoch 6/10\n",
      "110288/110288 [==============================] - 24s 220us/step - loss: 0.1319 - acc: 0.9601 - val_loss: nan - val_acc: 0.9608\n",
      "Epoch 7/10\n",
      "110288/110288 [==============================] - 26s 231us/step - loss: 0.1232 - acc: 0.9628 - val_loss: nan - val_acc: 0.9629\n",
      "Epoch 8/10\n",
      "110288/110288 [==============================] - 25s 227us/step - loss: 0.1135 - acc: 0.9659 - val_loss: nan - val_acc: 0.9653\n",
      "Epoch 9/10\n",
      "110288/110288 [==============================] - 24s 220us/step - loss: 0.1096 - acc: 0.9671 - val_loss: nan - val_acc: 0.9643\n",
      "Epoch 10/10\n",
      "110288/110288 [==============================] - 27s 241us/step - loss: 0.1089 - acc: 0.9673 - val_loss: nan - val_acc: 0.9650\n",
      "new jersey est parfois calme pendant l' automne et il est neigeux en avril <PAD> <PAD> <PAD> <PAD> <PAD> <PAD> <PAD>\n"
     ]
    }
   ],
   "source": [
    "def encdec_model(input_shape, output_sequence_length, english_vocab_size, french_vocab_size):\n",
    "    \"\"\"\n",
    "    Build and train an encoder-decoder model on x and y\n",
    "    :param input_shape: Tuple of input shape\n",
    "    :param output_sequence_length: Length of output sequence\n",
    "    :param english_vocab_size: Number of unique English words in the dataset\n",
    "    :param french_vocab_size: Number of unique French words in the dataset\n",
    "    :return: Keras model built, but not trained\n",
    "    \"\"\"\n",
    "    \n",
    "    embedding_size = 100\n",
    "    hidden_node = 128\n",
    "    learning_rate = 0.01\n",
    "    \n",
    "    #encoder\n",
    "    encoder_input = Input(input_shape[1:])\n",
    "    embedding_layer = Embedding(english_vocab_size,embedding_size)(encoder_input)\n",
    "    encoder_output = GRU(hidden_node, dropout=0.1)(embedding_layer)\n",
    "    \n",
    "    #decoder\n",
    "    decoder_input = Input((output_sequence_length, ))\n",
    "    embedding_layer = Embedding(english_vocab_size,embedding_size)(decoder_input)\n",
    "    decoder_output = GRU(hidden_node, return_sequences=True)(embedding_layer, initial_state = encoder_output)\n",
    "    # error decoder below\n",
    "    #decoder_output = GRU(hidden_node, recurrent_dropout=0.1, return_sequences=True)(embedding_layer, initial_state = encoder_output)\n",
    "    decoder_output = TimeDistributed(Dense(hidden_node))(decoder_output)\n",
    "    decoder_output = TimeDistributed(Dense(french_vocab_size))(decoder_output)\n",
    "    decoder_output = Activation('softmax')(decoder_output)\n",
    "    \n",
    "    #model\n",
    "    model = Model([encoder_input, decoder_input], decoder_output)\n",
    "    model.compile(loss = sparse_categorical_crossentropy, optimizer=Adam(learning_rate), metrics=['accuracy'])\n",
    "    \n",
    "    # TODO: Implement\n",
    "    return model\n",
    "#tests.test_encdec_model(encdec_model)\n",
    "\n",
    "\n",
    "# OPTIONAL: Train and Print prediction(s)\n",
    "'''\n",
    "preproc_english_sentences, preproc_french_sentences, english_tokenizer, french_tokenizer\n",
    "\n",
    "max_english_sequence_length = preproc_english_sentences.shape[1]\n",
    "max_french_sequence_length = preproc_french_sentences.shape[1]\n",
    "english_vocab_size = len(english_tokenizer.word_index)\n",
    "french_vocab_size = len(french_tokenizer.word_index)\n",
    "'''\n",
    "#x_encoder = preproc_english_sentences.reshape((-1, preproc_english_sentences.shape[1],1))\n",
    "\n",
    "x_encoder = preproc_english_sentences\n",
    "x_decoder = pad(preproc_english_sentences, max_french_sequence_length)\n",
    "#x_decoder = x_decoder.reshape((-1, x_decoder.shape[1],1))\n",
    "\n",
    "encdecoder_model = encdec_model(x_encoder.shape, max_french_sequence_length, english_vocab_size, french_vocab_size)\n",
    "encdecoder_model.fit([x_encoder, x_decoder], preproc_french_sentences, batch_size=1024, epochs=10, validation_split=0.2)\n",
    "\n",
    "print(logits_to_text(encdecoder_model.predict([x_encoder[:1], x_decoder[:1]])[0], french_tokenizer))"
   ]
  },
  {
   "cell_type": "code",
   "execution_count": 18,
   "metadata": {},
   "outputs": [
    {
     "name": "stdout",
     "output_type": "stream",
     "text": [
      "__________________________________________________________________________________________________\n",
      "Layer (type)                    Output Shape         Param #     Connected to                     \n",
      "==================================================================================================\n",
      "input_7 (InputLayer)            (None, 15)           0                                            \n",
      "__________________________________________________________________________________________________\n",
      "input_8 (InputLayer)            (None, 21)           0                                            \n",
      "__________________________________________________________________________________________________\n",
      "embedding_3 (Embedding)         (None, 15, 100)      19900       input_7[0][0]                    \n",
      "__________________________________________________________________________________________________\n",
      "embedding_4 (Embedding)         (None, 21, 100)      19900       input_8[0][0]                    \n",
      "__________________________________________________________________________________________________\n",
      "gru_7 (GRU)                     (None, 128)          87936       embedding_3[0][0]                \n",
      "__________________________________________________________________________________________________\n",
      "gru_8 (GRU)                     (None, 21, 128)      87936       embedding_4[0][0]                \n",
      "                                                                 gru_7[0][0]                      \n",
      "__________________________________________________________________________________________________\n",
      "time_distributed_7 (TimeDistrib (None, 21, 128)      16512       gru_8[0][0]                      \n",
      "__________________________________________________________________________________________________\n",
      "time_distributed_8 (TimeDistrib (None, 21, 344)      44376       time_distributed_7[0][0]         \n",
      "__________________________________________________________________________________________________\n",
      "activation_7 (Activation)       (None, 21, 344)      0           time_distributed_8[0][0]         \n",
      "==================================================================================================\n",
      "Total params: 276,560\n",
      "Trainable params: 276,560\n",
      "Non-trainable params: 0\n",
      "__________________________________________________________________________________________________\n"
     ]
    }
   ],
   "source": [
    "encdecoder_model.summary()"
   ]
  },
  {
   "cell_type": "markdown",
   "metadata": {},
   "source": [
    "### Model 5: Custom (IMPLEMENTATION)\n",
    "Use everything you learned from the previous models to create a model that incorporates embedding and a bidirectional rnn into one model."
   ]
  },
  {
   "cell_type": "code",
   "execution_count": 19,
   "metadata": {},
   "outputs": [],
   "source": [
    "def model_final(input_shape, output_sequence_length, english_vocab_size, french_vocab_size):\n",
    "    \"\"\"\n",
    "    Build and train a model that incorporates embedding, encoder-decoder, and bidirectional RNN on x and y\n",
    "    :param input_shape: Tuple of input shape\n",
    "    :param output_sequence_length: Length of output sequence\n",
    "    :param english_vocab_size: Number of unique English words in the dataset\n",
    "    :param french_vocab_size: Number of unique French words in the dataset\n",
    "    :return: Keras model built, but not trained\n",
    "    \"\"\"\n",
    "    embedding_size = 100\n",
    "    hidden_node = 256\n",
    "    learning_rate = 0.001\n",
    "    \n",
    "    inputs = Input(input_shape[1:])\n",
    "    embedding_layer = Embedding(english_vocab_size,embedding_size)(inputs)\n",
    "    outputs = Bidirectional(GRU(hidden_node, return_sequences=True),merge_mode='concat')(embedding_layer)\n",
    "    outputs = TimeDistributed(Dense(french_vocab_size))(outputs)\n",
    "    outputs = Activation('softmax')(outputs)\n",
    "    \n",
    "    #model\n",
    "    model = Model(inputs, outputs)\n",
    "    model.compile(loss = sparse_categorical_crossentropy, optimizer=Adam(learning_rate), metrics=['accuracy'])\n",
    "    \n",
    "    # TODO: Implement\n",
    "    return model\n",
    "#tests.test_model_final(model_final)"
   ]
  },
  {
   "cell_type": "code",
   "execution_count": 20,
   "metadata": {},
   "outputs": [
    {
     "name": "stdout",
     "output_type": "stream",
     "text": [
      "Final Model Loaded\n",
      "Train on 110288 samples, validate on 27573 samples\n",
      "Epoch 1/10\n",
      "110288/110288 [==============================] - 40s 363us/step - loss: 2.9439 - acc: 0.4535 - val_loss: nan - val_acc: 0.5085\n",
      "Epoch 2/10\n",
      "110288/110288 [==============================] - 36s 330us/step - loss: 1.6801 - acc: 0.5993 - val_loss: nan - val_acc: 0.6851\n",
      "Epoch 3/10\n",
      "110288/110288 [==============================] - 39s 357us/step - loss: 1.0147 - acc: 0.7454 - val_loss: nan - val_acc: 0.7814\n",
      "Epoch 4/10\n",
      "110288/110288 [==============================] - 40s 360us/step - loss: 0.7218 - acc: 0.8047 - val_loss: nan - val_acc: 0.8274\n",
      "Epoch 5/10\n",
      "110288/110288 [==============================] - 36s 330us/step - loss: 0.5419 - acc: 0.8465 - val_loss: nan - val_acc: 0.8641\n",
      "Epoch 6/10\n",
      "110288/110288 [==============================] - 39s 357us/step - loss: 0.4229 - acc: 0.8768 - val_loss: nan - val_acc: 0.8904\n",
      "Epoch 7/10\n",
      "110288/110288 [==============================] - 40s 360us/step - loss: 0.3444 - acc: 0.8979 - val_loss: nan - val_acc: 0.9059\n",
      "Epoch 8/10\n",
      "110288/110288 [==============================] - 36s 330us/step - loss: 0.2884 - acc: 0.9142 - val_loss: nan - val_acc: 0.9199\n",
      "Epoch 9/10\n",
      "110288/110288 [==============================] - 40s 360us/step - loss: 0.2464 - acc: 0.9263 - val_loss: nan - val_acc: 0.9291\n",
      "Epoch 10/10\n",
      "110288/110288 [==============================] - 40s 363us/step - loss: 0.2186 - acc: 0.9342 - val_loss: nan - val_acc: 0.9372\n"
     ]
    },
    {
     "data": {
      "text/plain": [
       "<keras.callbacks.History at 0x7fae3633ea20>"
      ]
     },
     "execution_count": 20,
     "metadata": {},
     "output_type": "execute_result"
    }
   ],
   "source": [
    "print('Final Model Loaded')\n",
    "# TODO: Train the final model\n",
    "\n",
    "tmp_x = pad(preproc_english_sentences, max_french_sequence_length)\n",
    "final_model = model_final(tmp_x.shape, max_french_sequence_length, english_vocab_size, french_vocab_size)\n",
    "final_model.fit(tmp_x,preproc_french_sentences, batch_size=1024, epochs=10, validation_split=0.2)"
   ]
  },
  {
   "cell_type": "code",
   "execution_count": 21,
   "metadata": {
    "scrolled": true
   },
   "outputs": [
    {
     "name": "stdout",
     "output_type": "stream",
     "text": [
      "new jersey est parfois calme au l' automne et il est neigeux en <PAD> <PAD> <PAD> <PAD> <PAD> <PAD> <PAD> <PAD>\n"
     ]
    }
   ],
   "source": [
    "print(logits_to_text(final_model.predict(tmp_x[:1])[0], french_tokenizer))"
   ]
  },
  {
   "cell_type": "code",
   "execution_count": 22,
   "metadata": {},
   "outputs": [
    {
     "name": "stdout",
     "output_type": "stream",
     "text": [
      "_________________________________________________________________\n",
      "Layer (type)                 Output Shape              Param #   \n",
      "=================================================================\n",
      "input_9 (InputLayer)         (None, 21)                0         \n",
      "_________________________________________________________________\n",
      "embedding_5 (Embedding)      (None, 21, 100)           19900     \n",
      "_________________________________________________________________\n",
      "bidirectional_3 (Bidirection (None, 21, 512)           548352    \n",
      "_________________________________________________________________\n",
      "time_distributed_9 (TimeDist (None, 21, 344)           176472    \n",
      "_________________________________________________________________\n",
      "activation_8 (Activation)    (None, 21, 344)           0         \n",
      "=================================================================\n",
      "Total params: 744,724\n",
      "Trainable params: 744,724\n",
      "Non-trainable params: 0\n",
      "_________________________________________________________________\n"
     ]
    }
   ],
   "source": [
    "final_model.summary()"
   ]
  },
  {
   "cell_type": "markdown",
   "metadata": {},
   "source": [
    "## Prediction (IMPLEMENTATION)"
   ]
  },
  {
   "cell_type": "code",
   "execution_count": 23,
   "metadata": {},
   "outputs": [],
   "source": [
    "from keras.callbacks import EarlyStopping\n",
    "from keras.callbacks import ModelCheckpoint"
   ]
  },
  {
   "cell_type": "code",
   "execution_count": 24,
   "metadata": {},
   "outputs": [],
   "source": [
    "def final_predictions_for_encdec_model(x, y, x_tk, y_tk):\n",
    "    \"\"\"\n",
    "    Gets predictions using the final model\n",
    "    :param x: Preprocessed English data\n",
    "    :param y: Preprocessed French data\n",
    "    :param x_tk: English tokenizer\n",
    "    :param y_tk: French tokenizer\n",
    "    \"\"\"\n",
    "    \n",
    "    max_y_sequence_length = len(y[0])\n",
    "    x_vocab_size = len(x_tk.word_index)\n",
    "    y_vocab_size = len(y_tk.word_index)\n",
    "    \n",
    "    # TODO: Train neural network using model_final\n",
    "    decoder_x = pad(x, max_y_sequence_length)\n",
    "    \n",
    "    #callback = EarlyStopping(monitor='val_acc', patience=3)\n",
    "\n",
    "    model = model_final(x.shape, max_y_sequence_length, x_vocab_size, y_vocab_size)\n",
    "    model.fit([x,decoder_x],y, batch_size=1024, epochs=30, validation_split=0.2, callbacks = [callback])\n",
    "\n",
    "    \n",
    "    ## DON'T EDIT ANYTHING BELOW THIS LINE\n",
    "    y_id_to_word = {value: key for key, value in y_tk.word_index.items()}\n",
    "    y_id_to_word[0] = '<PAD>'\n",
    "\n",
    "    sentence = 'he saw a old yellow truck'\n",
    "    sentence = [x_tk.word_index[word] for word in sentence.split()]\n",
    "    sentence = pad_sequences([sentence], maxlen=x.shape[-1], padding='post')\n",
    "    sentences = np.array([sentence[0], x[0]])\n",
    "    \n",
    "    def sentence_to_model_input(sentences):\n",
    "        sentences_decoder = pad(x, max_y_sequence_length)\n",
    "        \n",
    "        return [sentences, sentences_decoder]\n",
    "    \n",
    "    predictions = model.predict(sentence_to_model_input(sentences), len(sentences))\n",
    "\n",
    "    print('Sample 1:')\n",
    "    print(' '.join([y_id_to_word[np.argmax(x)] for x in predictions[0]]))\n",
    "    print('Il a vu un vieux camion jaune')\n",
    "    print('Sample 2:')\n",
    "    print(' '.join([y_id_to_word[np.argmax(x)] for x in predictions[1]]))\n",
    "    print(' '.join([y_id_to_word[np.max(x)] for x in y[1]]))"
   ]
  },
  {
   "cell_type": "code",
   "execution_count": 25,
   "metadata": {
    "scrolled": true
   },
   "outputs": [
    {
     "name": "stdout",
     "output_type": "stream",
     "text": [
      "Train on 110288 samples, validate on 27573 samples\n",
      "Epoch 1/150\n",
      "110288/110288 [==============================] - 40s 362us/step - loss: 2.9440 - acc: 0.4516 - val_loss: nan - val_acc: 0.5048\n",
      "Epoch 2/150\n",
      "110288/110288 [==============================] - 37s 334us/step - loss: 1.6991 - acc: 0.5961 - val_loss: nan - val_acc: 0.6945\n",
      "Epoch 3/150\n",
      "110288/110288 [==============================] - 39s 357us/step - loss: 1.0090 - acc: 0.7476 - val_loss: nan - val_acc: 0.7842\n",
      "Epoch 4/150\n",
      "110288/110288 [==============================] - 39s 351us/step - loss: 0.7048 - acc: 0.8065 - val_loss: nan - val_acc: 0.8224\n",
      "Epoch 5/150\n",
      "110288/110288 [==============================] - 37s 339us/step - loss: 0.5311 - acc: 0.8462 - val_loss: nan - val_acc: 0.8635\n",
      "Epoch 6/150\n",
      "110288/110288 [==============================] - 39s 357us/step - loss: 0.4196 - acc: 0.8764 - val_loss: nan - val_acc: 0.8873\n",
      "Epoch 7/150\n",
      "110288/110288 [==============================] - 40s 360us/step - loss: 0.3442 - acc: 0.8976 - val_loss: nan - val_acc: 0.9067\n",
      "Epoch 8/150\n",
      "110288/110288 [==============================] - 37s 332us/step - loss: 0.2903 - acc: 0.9130 - val_loss: nan - val_acc: 0.9155\n",
      "Epoch 9/150\n",
      "110288/110288 [==============================] - 40s 361us/step - loss: 0.2509 - acc: 0.9245 - val_loss: nan - val_acc: 0.9292\n",
      "Epoch 10/150\n",
      "110288/110288 [==============================] - 40s 360us/step - loss: 0.2194 - acc: 0.9345 - val_loss: nan - val_acc: 0.9382\n",
      "Epoch 11/150\n",
      "110288/110288 [==============================] - 37s 334us/step - loss: 0.1962 - acc: 0.9417 - val_loss: nan - val_acc: 0.9444\n",
      "Epoch 12/150\n",
      "110288/110288 [==============================] - 39s 357us/step - loss: 0.1740 - acc: 0.9490 - val_loss: nan - val_acc: 0.9477\n",
      "Epoch 13/150\n",
      "110288/110288 [==============================] - 40s 362us/step - loss: 0.1579 - acc: 0.9536 - val_loss: nan - val_acc: 0.9523\n",
      "Epoch 14/150\n",
      "110288/110288 [==============================] - 36s 330us/step - loss: 0.1459 - acc: 0.9571 - val_loss: nan - val_acc: 0.9552\n",
      "Epoch 15/150\n",
      "110288/110288 [==============================] - 40s 361us/step - loss: 0.1340 - acc: 0.9605 - val_loss: nan - val_acc: 0.9597\n",
      "Epoch 16/150\n",
      "110288/110288 [==============================] - 40s 360us/step - loss: 0.1230 - acc: 0.9638 - val_loss: nan - val_acc: 0.9629\n",
      "Epoch 17/150\n",
      "110288/110288 [==============================] - 36s 330us/step - loss: 0.1149 - acc: 0.9661 - val_loss: nan - val_acc: 0.9647\n",
      "Epoch 18/150\n",
      "110288/110288 [==============================] - 40s 361us/step - loss: 0.1080 - acc: 0.9682 - val_loss: nan - val_acc: 0.9668\n",
      "Epoch 19/150\n",
      "110288/110288 [==============================] - 40s 361us/step - loss: 0.1010 - acc: 0.9703 - val_loss: nan - val_acc: 0.9679\n",
      "Epoch 20/150\n",
      "110288/110288 [==============================] - 37s 331us/step - loss: 0.0950 - acc: 0.9719 - val_loss: nan - val_acc: 0.9694\n",
      "Epoch 21/150\n",
      "110288/110288 [==============================] - 40s 359us/step - loss: 0.0889 - acc: 0.9738 - val_loss: nan - val_acc: 0.9707\n",
      "Epoch 22/150\n",
      "110288/110288 [==============================] - 39s 357us/step - loss: 0.0837 - acc: 0.9753 - val_loss: nan - val_acc: 0.9716\n",
      "Epoch 23/150\n",
      "110288/110288 [==============================] - 37s 338us/step - loss: 0.0808 - acc: 0.9761 - val_loss: nan - val_acc: 0.9729\n",
      "Epoch 24/150\n",
      "110288/110288 [==============================] - 39s 352us/step - loss: 0.0771 - acc: 0.9770 - val_loss: nan - val_acc: 0.9730\n",
      "Epoch 25/150\n",
      "110288/110288 [==============================] - 40s 361us/step - loss: 0.0738 - acc: 0.9781 - val_loss: nan - val_acc: 0.9732\n",
      "Epoch 26/150\n",
      "110288/110288 [==============================] - 38s 343us/step - loss: 0.0708 - acc: 0.9789 - val_loss: nan - val_acc: 0.9752\n",
      "Epoch 27/150\n",
      "110288/110288 [==============================] - 38s 348us/step - loss: 0.0664 - acc: 0.9803 - val_loss: nan - val_acc: 0.9751\n",
      "Epoch 28/150\n",
      "110288/110288 [==============================] - 40s 361us/step - loss: 0.0651 - acc: 0.9806 - val_loss: nan - val_acc: 0.9754\n",
      "Epoch 29/150\n",
      "110288/110288 [==============================] - 39s 354us/step - loss: 0.0622 - acc: 0.9815 - val_loss: nan - val_acc: 0.9771\n",
      "Epoch 30/150\n",
      "110288/110288 [==============================] - 38s 341us/step - loss: 0.0592 - acc: 0.9824 - val_loss: nan - val_acc: 0.9776\n",
      "Epoch 31/150\n",
      "110288/110288 [==============================] - 28s 255us/step - loss: 0.0574 - acc: 0.9830 - val_loss: nan - val_acc: 0.9781\n",
      "Epoch 32/150\n",
      "110288/110288 [==============================] - 22s 196us/step - loss: 0.0564 - acc: 0.9831 - val_loss: nan - val_acc: 0.9777\n",
      "Epoch 33/150\n",
      "110288/110288 [==============================] - 22s 197us/step - loss: 0.0541 - acc: 0.9838 - val_loss: nan - val_acc: 0.9789\n",
      "Epoch 34/150\n",
      "110288/110288 [==============================] - 22s 195us/step - loss: 0.0513 - acc: 0.9848 - val_loss: nan - val_acc: 0.9786\n",
      "Epoch 35/150\n",
      "110288/110288 [==============================] - 22s 196us/step - loss: 0.0498 - acc: 0.9851 - val_loss: nan - val_acc: 0.9798\n",
      "Epoch 36/150\n",
      "110288/110288 [==============================] - 22s 195us/step - loss: 0.0481 - acc: 0.9857 - val_loss: nan - val_acc: 0.9804\n",
      "Epoch 37/150\n",
      "110288/110288 [==============================] - 22s 195us/step - loss: 0.0459 - acc: 0.9864 - val_loss: nan - val_acc: 0.9803\n",
      "Epoch 38/150\n",
      "110288/110288 [==============================] - 22s 195us/step - loss: 0.0470 - acc: 0.9858 - val_loss: nan - val_acc: 0.9802\n",
      "Epoch 39/150\n",
      "110288/110288 [==============================] - 22s 195us/step - loss: 0.0437 - acc: 0.9870 - val_loss: nan - val_acc: 0.9805\n",
      "Epoch 40/150\n",
      "110288/110288 [==============================] - 22s 196us/step - loss: 0.0425 - acc: 0.9873 - val_loss: nan - val_acc: 0.9805\n",
      "Epoch 41/150\n",
      "110288/110288 [==============================] - 22s 196us/step - loss: 0.0412 - acc: 0.9877 - val_loss: nan - val_acc: 0.9807\n",
      "Epoch 42/150\n",
      "110288/110288 [==============================] - 22s 196us/step - loss: 0.0398 - acc: 0.9880 - val_loss: nan - val_acc: 0.9818\n",
      "Epoch 43/150\n",
      "110288/110288 [==============================] - 22s 196us/step - loss: 0.0388 - acc: 0.9884 - val_loss: nan - val_acc: 0.9817\n",
      "Epoch 44/150\n",
      "110288/110288 [==============================] - 22s 195us/step - loss: 0.0387 - acc: 0.9883 - val_loss: nan - val_acc: 0.9814\n",
      "Epoch 45/150\n",
      "110288/110288 [==============================] - 22s 196us/step - loss: 0.0371 - acc: 0.9888 - val_loss: nan - val_acc: 0.9816\n",
      "Epoch 46/150\n",
      "110288/110288 [==============================] - 22s 196us/step - loss: 0.0374 - acc: 0.9887 - val_loss: nan - val_acc: 0.9820\n",
      "Epoch 47/150\n",
      "110288/110288 [==============================] - 22s 197us/step - loss: 0.0349 - acc: 0.9895 - val_loss: nan - val_acc: 0.9824\n",
      "Epoch 48/150\n",
      "110288/110288 [==============================] - 22s 195us/step - loss: 0.0343 - acc: 0.9896 - val_loss: nan - val_acc: 0.9819\n",
      "Epoch 49/150\n",
      "110288/110288 [==============================] - 22s 196us/step - loss: 0.0352 - acc: 0.9893 - val_loss: nan - val_acc: 0.9822\n",
      "Epoch 50/150\n",
      "110288/110288 [==============================] - 22s 196us/step - loss: 0.0332 - acc: 0.9899 - val_loss: nan - val_acc: 0.9823\n",
      "Epoch 51/150\n",
      "110288/110288 [==============================] - 22s 196us/step - loss: 0.0312 - acc: 0.9906 - val_loss: nan - val_acc: 0.9818\n",
      "Epoch 52/150\n",
      "110288/110288 [==============================] - 22s 196us/step - loss: 0.0307 - acc: 0.9907 - val_loss: nan - val_acc: 0.9828\n",
      "Epoch 53/150\n",
      "110288/110288 [==============================] - 22s 196us/step - loss: 0.0290 - acc: 0.9914 - val_loss: nan - val_acc: 0.9831\n",
      "Epoch 54/150\n",
      "110288/110288 [==============================] - 22s 196us/step - loss: 0.0282 - acc: 0.9916 - val_loss: nan - val_acc: 0.9830\n",
      "Epoch 55/150\n",
      "110288/110288 [==============================] - 22s 196us/step - loss: 0.0275 - acc: 0.9919 - val_loss: nan - val_acc: 0.9829\n",
      "Epoch 56/150\n",
      "110288/110288 [==============================] - 22s 197us/step - loss: 0.0269 - acc: 0.9920 - val_loss: nan - val_acc: 0.9832\n",
      "Epoch 57/150\n",
      "110288/110288 [==============================] - 22s 195us/step - loss: 0.0298 - acc: 0.9911 - val_loss: nan - val_acc: 0.9825\n",
      "Epoch 58/150\n",
      "110288/110288 [==============================] - 22s 196us/step - loss: 0.0275 - acc: 0.9918 - val_loss: nan - val_acc: 0.9823\n",
      "Epoch 59/150\n",
      "110288/110288 [==============================] - 22s 196us/step - loss: 0.0258 - acc: 0.9924 - val_loss: nan - val_acc: 0.9836\n",
      "Epoch 60/150\n",
      "110288/110288 [==============================] - 22s 196us/step - loss: 0.0237 - acc: 0.9931 - val_loss: nan - val_acc: 0.9833\n",
      "Epoch 61/150\n",
      "110288/110288 [==============================] - 22s 196us/step - loss: 0.0230 - acc: 0.9933 - val_loss: nan - val_acc: 0.9834\n",
      "Epoch 62/150\n",
      "110288/110288 [==============================] - 22s 196us/step - loss: 0.0232 - acc: 0.9932 - val_loss: nan - val_acc: 0.9834\n",
      "Epoch 63/150\n",
      "110288/110288 [==============================] - 22s 196us/step - loss: 0.0225 - acc: 0.9934 - val_loss: nan - val_acc: 0.9828\n",
      "Epoch 64/150\n",
      "110288/110288 [==============================] - 22s 199us/step - loss: 0.0237 - acc: 0.9930 - val_loss: nan - val_acc: 0.9810\n",
      "Epoch 65/150\n",
      "110288/110288 [==============================] - 21s 195us/step - loss: 0.0290 - acc: 0.9915 - val_loss: nan - val_acc: 0.9824\n",
      "Epoch 66/150\n",
      "110288/110288 [==============================] - 22s 195us/step - loss: 0.0236 - acc: 0.9930 - val_loss: nan - val_acc: 0.9834\n",
      "Epoch 67/150\n",
      "110288/110288 [==============================] - 22s 195us/step - loss: 0.0214 - acc: 0.9937 - val_loss: nan - val_acc: 0.9836\n",
      "Epoch 68/150\n",
      "110288/110288 [==============================] - 22s 196us/step - loss: 0.0190 - acc: 0.9946 - val_loss: nan - val_acc: 0.9840\n",
      "Epoch 69/150\n",
      "110288/110288 [==============================] - 22s 197us/step - loss: 0.0182 - acc: 0.9949 - val_loss: nan - val_acc: 0.9837\n",
      "Epoch 70/150\n",
      "110288/110288 [==============================] - 22s 196us/step - loss: 0.0175 - acc: 0.9952 - val_loss: nan - val_acc: 0.9837\n",
      "Epoch 71/150\n",
      "110288/110288 [==============================] - 22s 196us/step - loss: 0.0168 - acc: 0.9954 - val_loss: nan - val_acc: 0.9839\n",
      "Epoch 72/150\n",
      "110288/110288 [==============================] - 22s 197us/step - loss: 0.0163 - acc: 0.9955 - val_loss: nan - val_acc: 0.9842\n",
      "Epoch 73/150\n",
      "110288/110288 [==============================] - 22s 196us/step - loss: 0.0164 - acc: 0.9955 - val_loss: nan - val_acc: 0.9838\n",
      "Epoch 74/150\n",
      "110288/110288 [==============================] - 22s 196us/step - loss: 0.0174 - acc: 0.9951 - val_loss: nan - val_acc: 0.9836\n",
      "Epoch 75/150\n",
      "110288/110288 [==============================] - 22s 197us/step - loss: 0.0177 - acc: 0.9950 - val_loss: nan - val_acc: 0.9828\n",
      "Epoch 76/150\n",
      "110288/110288 [==============================] - 22s 196us/step - loss: 0.0223 - acc: 0.9935 - val_loss: nan - val_acc: 0.9811\n",
      "Epoch 77/150\n",
      "110288/110288 [==============================] - 22s 197us/step - loss: 0.0213 - acc: 0.9937 - val_loss: nan - val_acc: 0.9830\n",
      "Epoch 78/150\n",
      "110288/110288 [==============================] - 22s 196us/step - loss: 0.0176 - acc: 0.9951 - val_loss: nan - val_acc: 0.9829\n",
      "Epoch 79/150\n",
      "110288/110288 [==============================] - 22s 196us/step - loss: 0.0162 - acc: 0.9955 - val_loss: nan - val_acc: 0.9835\n",
      "Epoch 80/150\n",
      "110288/110288 [==============================] - 22s 197us/step - loss: 0.0143 - acc: 0.9962 - val_loss: nan - val_acc: 0.9836\n",
      "Epoch 81/150\n",
      "110288/110288 [==============================] - 22s 196us/step - loss: 0.0132 - acc: 0.9967 - val_loss: nan - val_acc: 0.9837\n",
      "Epoch 82/150\n",
      "110288/110288 [==============================] - 22s 197us/step - loss: 0.0124 - acc: 0.9969 - val_loss: nan - val_acc: 0.9840\n",
      "Epoch 83/150\n",
      "110288/110288 [==============================] - 22s 196us/step - loss: 0.0120 - acc: 0.9970 - val_loss: nan - val_acc: 0.9837\n",
      "Epoch 84/150\n",
      "110288/110288 [==============================] - 22s 196us/step - loss: 0.0118 - acc: 0.9971 - val_loss: nan - val_acc: 0.9837\n",
      "Epoch 85/150\n",
      "110288/110288 [==============================] - 22s 197us/step - loss: 0.0127 - acc: 0.9967 - val_loss: nan - val_acc: 0.9830\n",
      "Epoch 86/150\n",
      "110288/110288 [==============================] - 22s 196us/step - loss: 0.0142 - acc: 0.9961 - val_loss: nan - val_acc: 0.9827\n",
      "Epoch 87/150\n",
      "110288/110288 [==============================] - 22s 196us/step - loss: 0.0150 - acc: 0.9958 - val_loss: nan - val_acc: 0.9827\n",
      "Epoch 88/150\n",
      "110288/110288 [==============================] - 22s 196us/step - loss: 0.0152 - acc: 0.9959 - val_loss: nan - val_acc: 0.9826\n",
      "Epoch 89/150\n",
      "110288/110288 [==============================] - 22s 196us/step - loss: 0.0158 - acc: 0.9957 - val_loss: nan - val_acc: 0.9824\n",
      "Epoch 90/150\n",
      "110288/110288 [==============================] - 22s 196us/step - loss: 0.0133 - acc: 0.9964 - val_loss: nan - val_acc: 0.9836\n",
      "Epoch 91/150\n",
      "110288/110288 [==============================] - 22s 197us/step - loss: 0.0116 - acc: 0.9971 - val_loss: nan - val_acc: 0.9830\n",
      "Epoch 92/150\n",
      "110288/110288 [==============================] - 22s 196us/step - loss: 0.0108 - acc: 0.9974 - val_loss: nan - val_acc: 0.9839\n",
      "Epoch 93/150\n",
      "110288/110288 [==============================] - 22s 196us/step - loss: 0.0096 - acc: 0.9978 - val_loss: nan - val_acc: 0.9838\n",
      "Epoch 94/150\n",
      "110288/110288 [==============================] - 22s 196us/step - loss: 0.0093 - acc: 0.9979 - val_loss: nan - val_acc: 0.9840\n",
      "Epoch 95/150\n",
      "110288/110288 [==============================] - 22s 196us/step - loss: 0.0091 - acc: 0.9979 - val_loss: nan - val_acc: 0.9841\n",
      "Epoch 96/150\n",
      "110288/110288 [==============================] - 22s 196us/step - loss: 0.0088 - acc: 0.9980 - val_loss: nan - val_acc: 0.9839\n",
      "Epoch 97/150\n",
      "110288/110288 [==============================] - 22s 196us/step - loss: 0.0087 - acc: 0.9981 - val_loss: nan - val_acc: 0.9837\n",
      "Epoch 98/150\n",
      "110288/110288 [==============================] - 22s 197us/step - loss: 0.0087 - acc: 0.9980 - val_loss: nan - val_acc: 0.9838\n",
      "Epoch 99/150\n",
      "110288/110288 [==============================] - 22s 196us/step - loss: 0.0087 - acc: 0.9980 - val_loss: nan - val_acc: 0.9837\n",
      "Epoch 100/150\n",
      "110288/110288 [==============================] - 22s 196us/step - loss: 0.0088 - acc: 0.9980 - val_loss: nan - val_acc: 0.9831\n",
      "Epoch 101/150\n",
      "110288/110288 [==============================] - 22s 197us/step - loss: 0.0184 - acc: 0.9952 - val_loss: nan - val_acc: 0.9769\n",
      "Epoch 102/150\n",
      "110288/110288 [==============================] - 22s 196us/step - loss: 0.0296 - acc: 0.9916 - val_loss: nan - val_acc: 0.9814\n",
      "Epoch 103/150\n",
      "110288/110288 [==============================] - 22s 197us/step - loss: 0.0136 - acc: 0.9962 - val_loss: nan - val_acc: 0.9830\n",
      "Epoch 104/150\n",
      "110288/110288 [==============================] - 22s 197us/step - loss: 0.0099 - acc: 0.9976 - val_loss: nan - val_acc: 0.9838\n",
      "Epoch 105/150\n",
      "110288/110288 [==============================] - 22s 196us/step - loss: 0.0085 - acc: 0.9981 - val_loss: nan - val_acc: 0.9838\n",
      "Epoch 106/150\n",
      "110288/110288 [==============================] - 22s 196us/step - loss: 0.0078 - acc: 0.9983 - val_loss: nan - val_acc: 0.9840\n",
      "Epoch 107/150\n",
      "110288/110288 [==============================] - 22s 196us/step - loss: 0.0076 - acc: 0.9984 - val_loss: nan - val_acc: 0.9839\n",
      "Epoch 108/150\n",
      "110288/110288 [==============================] - 22s 196us/step - loss: 0.0074 - acc: 0.9984 - val_loss: nan - val_acc: 0.9840\n",
      "Epoch 109/150\n",
      "110288/110288 [==============================] - 22s 197us/step - loss: 0.0073 - acc: 0.9984 - val_loss: nan - val_acc: 0.9836\n",
      "Epoch 110/150\n",
      "110288/110288 [==============================] - 22s 196us/step - loss: 0.0072 - acc: 0.9985 - val_loss: nan - val_acc: 0.9835\n",
      "Epoch 111/150\n",
      "110288/110288 [==============================] - 22s 197us/step - loss: 0.0072 - acc: 0.9984 - val_loss: nan - val_acc: 0.9838\n",
      "Epoch 112/150\n",
      "110288/110288 [==============================] - 22s 196us/step - loss: 0.0072 - acc: 0.9985 - val_loss: nan - val_acc: 0.9837\n",
      "Epoch 113/150\n",
      "110288/110288 [==============================] - 22s 197us/step - loss: 0.0072 - acc: 0.9984 - val_loss: nan - val_acc: 0.9837\n",
      "Epoch 114/150\n",
      "110288/110288 [==============================] - 22s 197us/step - loss: 0.0072 - acc: 0.9984 - val_loss: nan - val_acc: 0.9835\n",
      "Epoch 115/150\n",
      "110288/110288 [==============================] - 22s 196us/step - loss: 0.0075 - acc: 0.9983 - val_loss: nan - val_acc: 0.9834\n",
      "Epoch 116/150\n",
      "110288/110288 [==============================] - 22s 197us/step - loss: 0.0080 - acc: 0.9981 - val_loss: nan - val_acc: 0.9834\n",
      "Epoch 117/150\n",
      "110288/110288 [==============================] - 22s 200us/step - loss: 0.0077 - acc: 0.9982 - val_loss: nan - val_acc: 0.9836\n",
      "Epoch 118/150\n",
      "110288/110288 [==============================] - 22s 197us/step - loss: 0.0074 - acc: 0.9983 - val_loss: nan - val_acc: 0.9834\n",
      "Epoch 119/150\n",
      "110288/110288 [==============================] - 22s 197us/step - loss: 0.0202 - acc: 0.9948 - val_loss: nan - val_acc: 0.9782\n",
      "Epoch 120/150\n",
      "110288/110288 [==============================] - 22s 196us/step - loss: 0.0242 - acc: 0.9929 - val_loss: nan - val_acc: 0.9821\n",
      "Epoch 121/150\n",
      "110288/110288 [==============================] - 22s 196us/step - loss: 0.0143 - acc: 0.9961 - val_loss: nan - val_acc: 0.9826\n",
      "Epoch 122/150\n",
      "110288/110288 [==============================] - 22s 196us/step - loss: 0.0094 - acc: 0.9977 - val_loss: nan - val_acc: 0.9831\n",
      "Epoch 123/150\n",
      "110288/110288 [==============================] - 22s 196us/step - loss: 0.0074 - acc: 0.9984 - val_loss: nan - val_acc: 0.9837\n",
      "Epoch 124/150\n",
      "110288/110288 [==============================] - 22s 196us/step - loss: 0.0070 - acc: 0.9985 - val_loss: nan - val_acc: 0.9839\n",
      "Epoch 125/150\n",
      "110288/110288 [==============================] - 22s 196us/step - loss: 0.0066 - acc: 0.9986 - val_loss: nan - val_acc: 0.9838\n",
      "Epoch 126/150\n",
      "110288/110288 [==============================] - 21s 195us/step - loss: 0.0064 - acc: 0.9986 - val_loss: nan - val_acc: 0.9840\n",
      "Epoch 127/150\n",
      "110288/110288 [==============================] - 21s 195us/step - loss: 0.0064 - acc: 0.9986 - val_loss: nan - val_acc: 0.9838\n",
      "Epoch 128/150\n",
      "110288/110288 [==============================] - 21s 195us/step - loss: 0.0063 - acc: 0.9986 - val_loss: nan - val_acc: 0.9838\n",
      "Epoch 129/150\n",
      "110288/110288 [==============================] - 22s 196us/step - loss: 0.0063 - acc: 0.9986 - val_loss: nan - val_acc: 0.9838\n",
      "Epoch 130/150\n",
      "110288/110288 [==============================] - 22s 197us/step - loss: 0.0063 - acc: 0.9986 - val_loss: nan - val_acc: 0.9836\n",
      "Epoch 131/150\n",
      "110288/110288 [==============================] - 22s 196us/step - loss: 0.0062 - acc: 0.9986 - val_loss: nan - val_acc: 0.9838\n",
      "Epoch 132/150\n",
      "110288/110288 [==============================] - 22s 197us/step - loss: 0.0063 - acc: 0.9986 - val_loss: nan - val_acc: 0.9837\n",
      "Epoch 133/150\n",
      "110288/110288 [==============================] - 22s 196us/step - loss: 0.0063 - acc: 0.9986 - val_loss: nan - val_acc: 0.9836\n",
      "Epoch 134/150\n",
      "110288/110288 [==============================] - 22s 196us/step - loss: 0.0064 - acc: 0.9985 - val_loss: nan - val_acc: 0.9838\n",
      "Epoch 135/150\n",
      "110288/110288 [==============================] - 22s 196us/step - loss: 0.0065 - acc: 0.9985 - val_loss: nan - val_acc: 0.9837\n",
      "Epoch 136/150\n",
      "110288/110288 [==============================] - 22s 196us/step - loss: 0.0069 - acc: 0.9984 - val_loss: nan - val_acc: 0.9835\n",
      "Epoch 137/150\n",
      "110288/110288 [==============================] - 22s 196us/step - loss: 0.0072 - acc: 0.9983 - val_loss: nan - val_acc: 0.9826\n",
      "Epoch 138/150\n",
      "110288/110288 [==============================] - 22s 197us/step - loss: 0.0263 - acc: 0.9932 - val_loss: nan - val_acc: 0.9778\n",
      "Epoch 139/150\n",
      "110288/110288 [==============================] - 22s 196us/step - loss: 0.0233 - acc: 0.9934 - val_loss: nan - val_acc: 0.9811\n",
      "Epoch 140/150\n",
      "110288/110288 [==============================] - 22s 196us/step - loss: 0.0126 - acc: 0.9966 - val_loss: nan - val_acc: 0.9827\n",
      "Epoch 141/150\n",
      "110288/110288 [==============================] - 22s 196us/step - loss: 0.0084 - acc: 0.9980 - val_loss: nan - val_acc: 0.9833\n",
      "Epoch 142/150\n",
      "110288/110288 [==============================] - 22s 196us/step - loss: 0.0071 - acc: 0.9984 - val_loss: nan - val_acc: 0.9834\n",
      "Epoch 143/150\n",
      "110288/110288 [==============================] - 22s 196us/step - loss: 0.0070 - acc: 0.9985 - val_loss: nan - val_acc: 0.9834\n",
      "Epoch 144/150\n",
      "110288/110288 [==============================] - 22s 196us/step - loss: 0.0070 - acc: 0.9984 - val_loss: nan - val_acc: 0.9833\n",
      "Epoch 145/150\n",
      "110288/110288 [==============================] - 22s 196us/step - loss: 0.0073 - acc: 0.9983 - val_loss: nan - val_acc: 0.9829\n",
      "Epoch 146/150\n",
      "110288/110288 [==============================] - 22s 196us/step - loss: 0.0065 - acc: 0.9986 - val_loss: nan - val_acc: 0.9835\n",
      "Epoch 147/150\n",
      "110288/110288 [==============================] - 22s 200us/step - loss: 0.0060 - acc: 0.9986 - val_loss: nan - val_acc: 0.9836\n",
      "Epoch 148/150\n",
      "110288/110288 [==============================] - 22s 195us/step - loss: 0.0065 - acc: 0.9986 - val_loss: nan - val_acc: 0.9830\n",
      "Epoch 149/150\n",
      "110288/110288 [==============================] - 21s 195us/step - loss: 0.0064 - acc: 0.9986 - val_loss: nan - val_acc: 0.9834\n",
      "Epoch 150/150\n",
      "110288/110288 [==============================] - 22s 195us/step - loss: 0.0060 - acc: 0.9986 - val_loss: nan - val_acc: 0.9839\n",
      "Sample 1:\n",
      "il a vu un vieux camion jaune <PAD> <PAD> <PAD> <PAD> <PAD> <PAD> <PAD> <PAD> <PAD> <PAD> <PAD> <PAD> <PAD> <PAD>\n",
      "Il a vu un vieux camion jaune\n",
      "Sample 2:\n",
      "new jersey est parfois calme pendant l' automne et il est neigeux en avril <PAD> <PAD> <PAD> <PAD> <PAD> <PAD> <PAD>\n",
      "les états unis est généralement froid en juillet et il gèle habituellement en novembre <PAD> <PAD> <PAD> <PAD> <PAD> <PAD> <PAD>\n"
     ]
    }
   ],
   "source": [
    "def final_predictions(x, y, x_tk, y_tk):\n",
    "    \"\"\"\n",
    "    Gets predictions using the final model\n",
    "    :param x: Preprocessed English data\n",
    "    :param y: Preprocessed French data\n",
    "    :param x_tk: English tokenizer\n",
    "    :param y_tk: French tokenizer\n",
    "    \"\"\"\n",
    "    \n",
    "    callback = ModelCheckpoint(\n",
    "    './tmp/best_0.001_2.hd5', monitor='val_acc', verbose=0, save_best_only=True, save_weights_only=False)\n",
    "    \n",
    "    max_y_sequence_length = len(y[0])\n",
    "    x_vocab_size = len(x_tk.word_index)\n",
    "    y_vocab_size = len(y_tk.word_index)\n",
    "    \n",
    "    # TODO: Train neural network using model_final\n",
    "    x = pad(x, max_y_sequence_length)\n",
    "    \n",
    "    #callback = EarlyStopping(monitor='val_acc', patience=10)\n",
    "\n",
    "    model = model_final(x.shape, max_y_sequence_length, x_vocab_size, y_vocab_size)\n",
    "    model.fit(x,y, batch_size=1024, epochs=150, validation_split=0.2, callbacks=[callback])\n",
    "\n",
    "    \n",
    "    ## DON'T EDIT ANYTHING BELOW THIS LINE\n",
    "    y_id_to_word = {value: key for key, value in y_tk.word_index.items()}\n",
    "    y_id_to_word[0] = '<PAD>'\n",
    "\n",
    "    sentence = 'he saw a old yellow truck'\n",
    "    sentence = [x_tk.word_index[word] for word in sentence.split()]\n",
    "    sentence = pad_sequences([sentence], maxlen=x.shape[-1], padding='post')\n",
    "    sentences = np.array([sentence[0], x[0]])\n",
    "    \n",
    "    predictions = model.predict(sentences, len(sentences))\n",
    "\n",
    "    print('Sample 1:')\n",
    "    print(' '.join([y_id_to_word[np.argmax(x)] for x in predictions[0]]))\n",
    "    print('Il a vu un vieux camion jaune')\n",
    "    print('Sample 2:')\n",
    "    print(' '.join([y_id_to_word[np.argmax(x)] for x in predictions[1]]))\n",
    "    print(' '.join([y_id_to_word[np.max(x)] for x in y[1]]))\n",
    "\n",
    "\n",
    "final_predictions(preproc_english_sentences, preproc_french_sentences, english_tokenizer, french_tokenizer)"
   ]
  },
  {
   "cell_type": "code",
   "execution_count": 26,
   "metadata": {},
   "outputs": [],
   "source": [
    "from keras.models import load_model"
   ]
  },
  {
   "cell_type": "code",
   "execution_count": 27,
   "metadata": {},
   "outputs": [],
   "source": [
    "model = load_model('./tmp/best_0.001_2.hd5')"
   ]
  },
  {
   "cell_type": "code",
   "execution_count": 28,
   "metadata": {},
   "outputs": [],
   "source": [
    "x, y, x_tk, y_tk = preproc_english_sentences, preproc_french_sentences, english_tokenizer, french_tokenizer"
   ]
  },
  {
   "cell_type": "code",
   "execution_count": 29,
   "metadata": {},
   "outputs": [],
   "source": [
    "max_y_sequence_length = len(y[0])\n",
    "x_vocab_size = len(x_tk.word_index)\n",
    "y_vocab_size = len(y_tk.word_index)\n",
    "\n",
    "# TODO: Train neural network using model_final\n",
    "x = pad(x, max_y_sequence_length)"
   ]
  },
  {
   "cell_type": "code",
   "execution_count": 30,
   "metadata": {},
   "outputs": [],
   "source": [
    "sentence = 'he saw a old yellow truck'\n",
    "sentence = [x_tk.word_index[word] for word in sentence.split()]\n",
    "sentence = pad_sequences([sentence], maxlen=x.shape[-1], padding='post')\n",
    "sentences = np.array([sentence[0], x[0]])\n",
    "    "
   ]
  },
  {
   "cell_type": "code",
   "execution_count": 31,
   "metadata": {},
   "outputs": [
    {
     "name": "stdout",
     "output_type": "stream",
     "text": [
      "Sample 1:\n",
      "il a vu un vieux camion jaune <PAD> <PAD> <PAD> <PAD> <PAD> <PAD> <PAD> <PAD> <PAD> <PAD> <PAD> <PAD> <PAD> <PAD>\n",
      "Il a vu un vieux camion jaune\n",
      "Sample 2:\n",
      "new jersey est parfois calme pendant l' automne et il est neigeux en avril <PAD> <PAD> <PAD> <PAD> <PAD> <PAD> <PAD>\n",
      "les états unis est généralement froid en juillet et il gèle habituellement en novembre <PAD> <PAD> <PAD> <PAD> <PAD> <PAD> <PAD>\n"
     ]
    }
   ],
   "source": [
    "y_id_to_word = {value: key for key, value in y_tk.word_index.items()}\n",
    "y_id_to_word[0] = '<PAD>'\n",
    "\n",
    "sentence = 'he saw a old yellow truck'\n",
    "sentence = [x_tk.word_index[word] for word in sentence.split()]\n",
    "sentence = pad_sequences([sentence], maxlen=x.shape[-1], padding='post')\n",
    "sentences = np.array([sentence[0], x[0]])\n",
    "\n",
    "predictions = model.predict(sentences, len(sentences))\n",
    "\n",
    "print('Sample 1:')\n",
    "print(' '.join([y_id_to_word[np.argmax(x)] for x in predictions[0]]))\n",
    "print('Il a vu un vieux camion jaune')\n",
    "print('Sample 2:')\n",
    "print(' '.join([y_id_to_word[np.argmax(x)] for x in predictions[1]]))\n",
    "print(' '.join([y_id_to_word[np.max(x)] for x in y[1]]))"
   ]
  },
  {
   "cell_type": "markdown",
   "metadata": {},
   "source": [
    "## Submission\n",
    "When you're ready to submit, complete the following steps:\n",
    "1. Review the [rubric](https://review.udacity.com/#!/rubrics/1004/view) to ensure your submission meets all requirements to pass\n",
    "2. Generate an HTML version of this notebook\n",
    "\n",
    "  - Run the next cell to attempt automatic generation (this is the recommended method in Workspaces)\n",
    "  - Navigate to **FILE -> Download as -> HTML (.html)**\n",
    "  - Manually generate a copy using `nbconvert` from your shell terminal\n",
    "```\n",
    "$ pip install nbconvert\n",
    "$ python -m nbconvert machine_translation.ipynb\n",
    "```\n",
    "  \n",
    "3. Submit the project\n",
    "\n",
    "  - If you are in a Workspace, simply click the \"Submit Project\" button (bottom towards the right)\n",
    "  \n",
    "  - Otherwise, add the following files into a zip archive and submit them \n",
    "  - `helper.py`\n",
    "  - `machine_translation.ipynb`\n",
    "  - `machine_translation.html`\n",
    "    - You can export the notebook by navigating to **File -> Download as -> HTML (.html)**."
   ]
  },
  {
   "cell_type": "markdown",
   "metadata": {},
   "source": [
    "### Generate the html\n",
    "\n",
    "**Save your notebook before running the next cell to generate the HTML output.** Then submit your project."
   ]
  },
  {
   "cell_type": "code",
   "execution_count": 32,
   "metadata": {},
   "outputs": [
    {
     "data": {
      "text/plain": [
       "['[NbConvertApp] Converting notebook machine_translation.ipynb to html',\n",
       " '[NbConvertApp] Writing 420877 bytes to machine_translation.html',\n",
       " '[NbConvertApp] Converting notebook machine_translation-zh.ipynb to html',\n",
       " '[NbConvertApp] Writing 328614 bytes to machine_translation-zh.html']"
      ]
     },
     "execution_count": 32,
     "metadata": {},
     "output_type": "execute_result"
    }
   ],
   "source": [
    "# Save before you run this cell!\n",
    "!!jupyter nbconvert *.ipynb"
   ]
  },
  {
   "cell_type": "markdown",
   "metadata": {},
   "source": [
    "## Optional Enhancements\n",
    "\n",
    "This project focuses on learning various network architectures for machine translation, but we don't evaluate the models according to best practices by splitting the data into separate test & training sets -- so the model accuracy is overstated. Use the [`sklearn.model_selection.train_test_split()`](http://scikit-learn.org/stable/modules/generated/sklearn.model_selection.train_test_split.html) function to create separate training & test datasets, then retrain each of the models using only the training set and evaluate the prediction accuracy using the hold out test set. Does the \"best\" model change?"
   ]
  },
  {
   "cell_type": "code",
   "execution_count": null,
   "metadata": {},
   "outputs": [],
   "source": []
  }
 ],
 "metadata": {
  "kernelspec": {
   "display_name": "Python 3",
   "language": "python",
   "name": "python3"
  },
  "language_info": {
   "codemirror_mode": {
    "name": "ipython",
    "version": 3
   },
   "file_extension": ".py",
   "mimetype": "text/x-python",
   "name": "python",
   "nbconvert_exporter": "python",
   "pygments_lexer": "ipython3",
   "version": "3.6.3"
  }
 },
 "nbformat": 4,
 "nbformat_minor": 1
}
